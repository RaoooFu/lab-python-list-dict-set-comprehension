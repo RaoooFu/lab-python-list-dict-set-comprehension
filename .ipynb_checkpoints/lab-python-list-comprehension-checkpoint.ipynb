{
 "cells": [
  {
   "cell_type": "markdown",
   "id": "25d7736c-ba17-4aff-b6bb-66eba20fbf4e",
   "metadata": {},
   "source": [
    "# Lab | List, Dict and Set Comprehension"
   ]
  },
  {
   "cell_type": "markdown",
   "id": "7dd3cbde-675a-4b81-92c3-f728846dbe06",
   "metadata": {},
   "source": [
    "## Exercise: Managing Customer Orders Optimized with Comprehension"
   ]
  },
  {
   "cell_type": "markdown",
   "id": "5d500160-2fb7-4777-b5e4-09d45ebaf328",
   "metadata": {},
   "source": [
    "In the previous exercise, you developed a program to manage customer orders and inventory. Now, let's take it a step further and incorporate comprehension into your code.\n",
    "\n",
    "Follow the steps below to complete the exercise:\n",
    "\n",
    "1. Review your code from the previous exercise and identify areas where you can apply comprehension to simplify and streamline your code. \n",
    "\n",
    "    - *Hint: Apply it to initialize inventory, updating the inventory and printing the updated inventory.*\n",
    "    \n",
    "    - For example, in initializing the inventory, we could have:\n",
    "    \n",
    "        ```python\n",
    "        def initialize_inventory(products):\n",
    "            inventory = {product: int(input(f\"Enter the quantity of {product}s available: \")) for product in products}\n",
    "            return inventory\n",
    "\n",
    "        ```\n",
    "<br>\n",
    "    \n",
    "    \n",
    "2. Modify the function get_customer_orders so it prompts the user to enter the number of customer orders and gathers the product names using a loop and user input. Use comprehension.\n",
    "\n",
    "3. Modify the update_inventory function to remove the product from the inventory if its quantity becomes zero after fulfilling the customer orders. Use comprehension to filter out the products with a quantity of zero from the inventory.\n",
    "\n",
    "4. Define function for order statistics\n",
    "\n",
    "5. Print the total price of the customer order.\n",
    "\n",
    "Your code should produce output similar to the following:\n",
    "\n",
    "```python\n",
    "Enter the quantity of t-shirts available:  5\n",
    "Enter the quantity of mugs available:  4\n",
    "Enter the quantity of hats available:  3\n",
    "Enter the quantity of books available:  2\n",
    "Enter the quantity of keychains available:  1\n",
    "Enter the number of customer orders:  2\n",
    "Enter the name of a product that a customer wants to order:  hat\n",
    "Enter the name of a product that a customer wants to order:  keychain\n",
    "\n",
    "Order Statistics:\n",
    "Total Products Ordered: 2\n",
    "Percentage of Unique Products Ordered: 40.0\n",
    "\n",
    "Updated Inventory:\n",
    "t-shirt: 5\n",
    "mug: 4\n",
    "hat: 2\n",
    "book: 2\n",
    "Enter the price of keychain:  5\n",
    "Enter the price of hat:  10\n",
    "Total Price: 15.0\n",
    "\n",
    "```\n",
    "\n",
    "7. Add a new function to calculate the total price of the customer order. For each product in customer_orders, prompt the user to enter the price of that product. Use comprehension to calculate the total price. Note: assume that the user can only have 1 unit of each product."
   ]
  },
  {
   "cell_type": "code",
   "execution_count": 130,
   "id": "1c8530d7-0562-4032-a8b4-c9b84f5c30a4",
   "metadata": {},
   "outputs": [
    {
     "name": "stdin",
     "output_type": "stream",
     "text": [
      "Please input the quantity of the t-shirt:  3\n",
      "Please input the quantity of the mug:  4\n",
      "Please input the quantity of the hat:  5\n",
      "Please input the quantity of the book:  6\n",
      "Please input the quantity of the keychain:  7\n",
      "How many products would you like to order? 3\n",
      "Please input the name of the product you would like to order. mug\n",
      "Please input the name of the product you would like to order. keychain\n",
      "Please input the name of the product you would like to order. book\n"
     ]
    },
    {
     "name": "stdout",
     "output_type": "stream",
     "text": [
      "Customer orders: {'keychain', 'mug', 'book'}\n"
     ]
    }
   ],
   "source": [
    "#Step 1 \n",
    "products = ['t-shirt', 'mug', 'hat', 'book', 'keychain']\n",
    "\n",
    "def initialize_inventory(products):\n",
    "    inventory={product:int(input(f\"Please input the quantity of the {product}: \")) for product in products}\n",
    "    return inventory\n",
    "#inventory is being created within initialize_inventory\n",
    "initialize_inventory(products)\n",
    "\n",
    "#inventory=initialize_inventory(products)\n",
    "\n",
    "\n",
    "#Step 2:\n",
    "def get_customer_orders():\n",
    "    num_orders=int(input(\"How many products would you like to order?\"))\n",
    "    return {input(\"Please input the name of the product you would like to order.\") for _ in range(num_orders)}\n",
    "\n",
    "customer_orders= get_customer_orders() #call the get_customer_orders function and store results in customer_orders\n",
    "\n",
    "print(\"Customer orders:\",customer_orders)\n"
   ]
  },
  {
   "cell_type": "code",
   "execution_count": 132,
   "id": "ddeb63e3-7aa8-4571-85dc-6549eae74a0d",
   "metadata": {},
   "outputs": [
    {
     "data": {
      "text/plain": [
       "{'t-shirt': 3, 'mug': 3, 'hat': 5, 'book': 5, 'keychain': 6}"
      ]
     },
     "execution_count": 132,
     "metadata": {},
     "output_type": "execute_result"
    }
   ],
   "source": [
    "#Step 3:\n",
    "def update_inventory(customer_orders, inventory):\n",
    "    inventory = {product: inventory[product] - 1 \n",
    "                 if product in customer_orders \n",
    "                 else inventory[product] #unchanged\n",
    "                 for product in inventory}\n",
    "    inventory = {product: quantity for product,\n",
    "                 quantity in inventory.items() #Returns all items (key-value pairs) in the dictionary inventory, \n",
    "                 #where product is the key and quantity is the value.\n",
    "                 if quantity > 0}\n",
    "    #This line filters out products that have a quantity of zero or less. \n",
    "    #It creates a new dictionary with only products that still have a quantity greater than \n",
    "    return inventory\n",
    "update_inventory(customer_orders,inventory)"
   ]
  },
  {
   "cell_type": "code",
   "execution_count": 158,
   "id": "e8581c5b-d75b-4923-96b0-8186068a75e6",
   "metadata": {},
   "outputs": [
    {
     "name": "stdout",
     "output_type": "stream",
     "text": [
      "The total products ordered is: 3, the percentage of unique products ordered is 60.0%\n"
     ]
    }
   ],
   "source": [
    "#Step 4:Order statistics\n",
    "\n",
    "def calculate_order_statistics(customer_orders,products):\n",
    "    total_products=len(products)\n",
    "    total_products_ordered=len(customer_orders)\n",
    "    percentage= (total_products_ordered/total_products)*100\n",
    "    return total_products_ordered, percentage #You're trying to print variables that don't exist in the global scope\n",
    "\n",
    "total_products_ordered, percentage = calculate_order_statistics(customer_orders, products)#important as well\n",
    "\n",
    "print(f\"The total products ordered is: {total_products_ordered}, the percentage of unique products ordered is {percentage}%\")\n",
    "\n",
    "#order_statistics=(total_products_ordered, percentage)\n",
    "order_statistics=calculate_order_statistics(customer_orders,products)\n",
    "def print_order_statistics(order_statistics):\n",
    "    print(\"\\nOrder Statistics:\")\n",
    "    print(\"Total Products Ordered:\", order_statistics[0])\n",
    "    print(\"Percentage of Unique Products Ordered:\", order_statistics[1])\n",
    "    return order_statistics \n",
    "    \n",
    "print_order_statistics(order_statistics)\n",
    "\n",
    "print(f\"The total products ordered is {order_statistics[0]}, and the percentage is {order_statistics[1]}%.\")\n",
    "    \n",
    "\n"
   ]
  },
  {
   "cell_type": "code",
   "execution_count": 178,
   "id": "b499e3d7-af41-4b1c-bd53-7f046cf9c841",
   "metadata": {},
   "outputs": [
    {
     "name": "stdin",
     "output_type": "stream",
     "text": [
      "the price of keychain 3\n",
      "the price of mug 4\n",
      "the price of book 5\n"
     ]
    },
    {
     "data": {
      "text/plain": [
       "12"
      ]
     },
     "execution_count": 178,
     "metadata": {},
     "output_type": "execute_result"
    }
   ],
   "source": [
    "\n",
    "def total_price(customer_orders):\n",
    "    price={int(input(f\"the price of {customer_order}\")) for customer_order in customer_orders}\n",
    "    total_price=sum(price)\n",
    "    return total_price\n",
    "total_price(customer_orders)\n",
    "#final=sum(total_price)"
   ]
  },
  {
   "cell_type": "code",
   "execution_count": null,
   "id": "bf5c4b86-aa88-49df-a45c-37cebe9bc4f9",
   "metadata": {},
   "outputs": [],
   "source": []
  }
 ],
 "metadata": {
  "kernelspec": {
   "display_name": "Python [conda env:base] *",
   "language": "python",
   "name": "conda-base-py"
  },
  "language_info": {
   "codemirror_mode": {
    "name": "ipython",
    "version": 3
   },
   "file_extension": ".py",
   "mimetype": "text/x-python",
   "name": "python",
   "nbconvert_exporter": "python",
   "pygments_lexer": "ipython3",
   "version": "3.12.7"
  }
 },
 "nbformat": 4,
 "nbformat_minor": 5
}
